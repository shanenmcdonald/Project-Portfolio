{
 "cells": [
  {
   "attachments": {},
   "cell_type": "markdown",
   "metadata": {},
   "source": [
    "![title](hacker_news.jpg)"
   ]
  },
  {
   "cell_type": "markdown",
   "metadata": {},
   "source": [
    "Hacker News is a site started by the startup incubator [Y Combinator](https://www.ycombinator.com/), where user-submitted stories (known as \"posts\") are voted and commented upon, similar to reddit. Hacker News is extremely popular in technology and startup circles, and posts that make it to the top of Hacker News' listings can get hundreds of thousands of visitors as a result.\n",
    "\n",
    "You can find the data set [here](https://www.kaggle.com/hacker-news/hacker-news-posts), and the data set includes almost 300,000. Below are descriptions of the columns:\n",
    "\n",
    "`id`: The unique identifier from Hacker News for the post<br>\n",
    "`title`: The title of the post<br>\n",
    "`url`: The URL that the posts links to, if it the post has a URL<br>\n",
    "`num_points`: The number of points the post acquired, calculated as the total number of upvotes minus the total number of downvotes<br>\n",
    "`num_comments`: The number of comments that were made on the post<br>\n",
    "`author`: The username of the person who submitted the post<br>\n",
    "`created_at`: The date and time at which the post was submitted<br>\n",
    "\n",
    "Here are the first 5 rows of the dataset."
   ]
  },
  {
   "cell_type": "code",
   "execution_count": 1,
   "metadata": {},
   "outputs": [],
   "source": [
    "#Import the required packages\n",
    "from csv import reader\n",
    "import datetime as dt"
   ]
  },
  {
   "cell_type": "code",
   "execution_count": 2,
   "metadata": {},
   "outputs": [
    {
     "name": "stdout",
     "output_type": "stream",
     "text": [
      "[['id', 'title', 'url', 'num_points', 'num_comments', 'author', 'created_at'], ['12579008', 'You have two days to comment if you want stem cells to be classified as your own', 'http://www.regulations.gov/document?D=FDA-2015-D-3719-0018', '1', '0', 'altstar', '9/26/2016 3:26'], ['12579005', 'SQLAR  the SQLite Archiver', 'https://www.sqlite.org/sqlar/doc/trunk/README.md', '1', '0', 'blacksqr', '9/26/2016 3:24'], ['12578997', 'What if we just printed a flatscreen television on the side of our boxes?', 'https://medium.com/vanmoof/our-secrets-out-f21c1f03fdc8#.ietxmez43', '1', '0', 'pavel_lishin', '9/26/2016 3:19'], ['12578989', 'algorithmic music', 'http://cacm.acm.org/magazines/2011/7/109891-algorithmic-composition/fulltext', '1', '0', 'poindontcare', '9/26/2016 3:16']]\n"
     ]
    }
   ],
   "source": [
    "#Read in the .csv file\n",
    "opened_file = open('C:/Users/shane.mcdonald/Desktop/HN_posts_year_to_Sep_26_2016.csv', encoding='utf-8')\n",
    "read_file = reader(opened_file)\n",
    "hn = list(read_file)\n",
    "print(hn[:5])"
   ]
  },
  {
   "cell_type": "markdown",
   "metadata": {},
   "source": [
    "We're specifically interested in posts whose titles begin with either `Ask HN` or `Show HN`. \n",
    "\n",
    "Users submit `Ask HN` posts to ask the Hacker News community a specific question.\n",
    "\n",
    "Likewise, users submit `Show HN` posts to show the Hacker News community a project, product, or just generally something interesting. \n",
    "\n",
    "We'll compare these two types of posts to determine the following:\n",
    "\n",
    "- Do `Ask HN` or `Show HN` receive more comments on average?\n",
    "- Do posts created at a certain time receive more comments on average?"
   ]
  },
  {
   "cell_type": "markdown",
   "metadata": {},
   "source": [
    "### Removing headers from a list of lists\n",
    "\n",
    "To clean this up a bit, let's remove the first list, which are the headers, and assign them to a new variable `headers`."
   ]
  },
  {
   "cell_type": "code",
   "execution_count": 3,
   "metadata": {},
   "outputs": [
    {
     "name": "stdout",
     "output_type": "stream",
     "text": [
      "['id', 'title', 'url', 'num_points', 'num_comments', 'author', 'created_at']\n"
     ]
    }
   ],
   "source": [
    "#Remove headers from original list\n",
    "headers = hn[0]\n",
    "print(headers)"
   ]
  },
  {
   "cell_type": "code",
   "execution_count": 4,
   "metadata": {},
   "outputs": [
    {
     "name": "stdout",
     "output_type": "stream",
     "text": [
      "[['12579008', 'You have two days to comment if you want stem cells to be classified as your own', 'http://www.regulations.gov/document?D=FDA-2015-D-3719-0018', '1', '0', 'altstar', '9/26/2016 3:26'], ['12579005', 'SQLAR  the SQLite Archiver', 'https://www.sqlite.org/sqlar/doc/trunk/README.md', '1', '0', 'blacksqr', '9/26/2016 3:24'], ['12578997', 'What if we just printed a flatscreen television on the side of our boxes?', 'https://medium.com/vanmoof/our-secrets-out-f21c1f03fdc8#.ietxmez43', '1', '0', 'pavel_lishin', '9/26/2016 3:19'], ['12578989', 'algorithmic music', 'http://cacm.acm.org/magazines/2011/7/109891-algorithmic-composition/fulltext', '1', '0', 'poindontcare', '9/26/2016 3:16'], ['12578979', 'How the Data Vault Enables the Next-Gen Data Warehouse and Data Lake', 'https://www.talend.com/blog/2016/05/12/talend-and-Â\\x93the-data-vaultÂ\\x94', '1', '0', 'markgainor1', '9/26/2016 3:14'], ['12578975', 'Saving the Hassle of Shopping', 'https://blog.menswr.com/2016/09/07/whats-new-with-your-style-feed/', '1', '1', 'bdoux', '9/26/2016 3:13']]\n"
     ]
    }
   ],
   "source": [
    "#Re-assign the list without the headers\n",
    "hn = hn[1:]\n",
    "print(hn[:6])"
   ]
  },
  {
   "cell_type": "markdown",
   "metadata": {},
   "source": [
    "### Extracting 'Ask HN' and 'Show HN' posts\n",
    "\n",
    "Now that we've removed the headers from `hn`, we're ready to filter our data. Since we're only concerned with post titles beginning with `Ask HN` or `Show HN`, we'll create new lists of lists containing just the data for those titles."
   ]
  },
  {
   "cell_type": "code",
   "execution_count": 5,
   "metadata": {},
   "outputs": [
    {
     "name": "stdout",
     "output_type": "stream",
     "text": [
      "Ask posts: 9139\n",
      "Show posts: 10158\n",
      "Other: 273822\n"
     ]
    }
   ],
   "source": [
    "#Create 3 empty lists\n",
    "ask_posts = []\n",
    "show_posts = []\n",
    "other_posts = []\n",
    "\n",
    "#Loop through each row to extract the posts\n",
    "for item in hn:\n",
    "    news_title = item[1].lower()\n",
    "    if news_title.startswith('ask hn'):\n",
    "        ask_posts.append(item)\n",
    "    elif news_title.startswith('show hn'):\n",
    "        show_posts.append(item)\n",
    "    else:\n",
    "        other_posts.append(item)\n",
    "\n",
    "#Print the results\n",
    "print('Ask posts:',len(ask_posts))\n",
    "print('Show posts:', len(show_posts))\n",
    "print('Other:', len(other_posts))"
   ]
  },
  {
   "cell_type": "markdown",
   "metadata": {},
   "source": [
    "### Calculating the average number of comments for 'Ask HN' and 'Show HN' posts\n",
    "\n",
    "Next, let's determine if ask posts or show posts receive more comments on average."
   ]
  },
  {
   "cell_type": "code",
   "execution_count": 6,
   "metadata": {},
   "outputs": [
    {
     "name": "stdout",
     "output_type": "stream",
     "text": [
      "The average number of ask comments is 10.39\n"
     ]
    }
   ],
   "source": [
    "#Store the total in a new variable\n",
    "total_ask_comments = 0\n",
    "\n",
    "#Loop through the Ask post list\n",
    "for item in ask_posts:\n",
    "    comments = item[4]\n",
    "    total_ask_comments += int(comments)\n",
    "    \n",
    "#Calculate the average\n",
    "avg_ask_comments = total_ask_comments / len(ask_posts)\n",
    "\n",
    "#Print the reults\n",
    "print('The average number of ask comments is {:.2f}'.format(avg_ask_comments))"
   ]
  },
  {
   "cell_type": "code",
   "execution_count": 7,
   "metadata": {},
   "outputs": [
    {
     "name": "stdout",
     "output_type": "stream",
     "text": [
      "The average number of show comments is 4.89\n"
     ]
    }
   ],
   "source": [
    "#Store the total in a new variable\n",
    "total_show_comments = 0\n",
    "\n",
    "#Loop through the Show posts\n",
    "for item in show_posts:\n",
    "    comments = item[4]\n",
    "    total_show_comments += int(comments)\n",
    "\n",
    "#Calculate the average\n",
    "avg_show_comments = total_show_comments / len(show_posts)\n",
    "\n",
    "#Print the results\n",
    "print('The average number of show comments is {:.2f}'.format(avg_show_comments))"
   ]
  },
  {
   "cell_type": "markdown",
   "metadata": {},
   "source": [
    "The results show that there are over twice as many ask comments than there are show comments, which may mean that users are using Hacker News as a Q&A forum rather than a show & tell platform."
   ]
  },
  {
   "cell_type": "markdown",
   "metadata": {},
   "source": [
    "### Finding the amount of 'Ask' posts and comments by hour created\n",
    "\n",
    "Next, we'll determine if ask posts created at a certain time are more likely to attract comments. We'll use the following steps to perform this analysis:\n",
    "\n",
    "- Calculate the amount of ask posts created in each hour of the day, along with the number of comments received.\n",
    "- Calculate the average number of comments ask posts receive by hour created."
   ]
  },
  {
   "cell_type": "code",
   "execution_count": 8,
   "metadata": {},
   "outputs": [
    {
     "name": "stdout",
     "output_type": "stream",
     "text": [
      "Counts by hour: {'02': 269, '01': 282, '22': 383, '21': 518, '19': 552, '17': 587, '15': 646, '14': 513, '13': 444, '11': 312, '10': 282, '09': 222, '07': 226, '03': 271, '23': 343, '20': 510, '16': 579, '08': 257, '00': 301, '18': 614, '12': 342, '04': 243, '06': 234, '05': 209}\n",
      "\n",
      "\n",
      "Comments by hour: {'02': 2996, '01': 2089, '22': 3372, '21': 4500, '19': 3954, '17': 5547, '15': 18525, '14': 4972, '13': 7245, '11': 2797, '10': 3013, '09': 1477, '07': 1585, '03': 2154, '23': 2297, '20': 4462, '16': 4466, '08': 2362, '00': 2277, '18': 4877, '12': 4234, '04': 2360, '06': 1587, '05': 1838}\n"
     ]
    }
   ],
   "source": [
    "#Create an empty list\n",
    "result_list = []\n",
    "\n",
    "#Loop through the Ask posts 'created_at' column\n",
    "for item in ask_posts:\n",
    "    temp_list = []\n",
    "    ask_create = item[6]\n",
    "    num_comments = int(item[4])\n",
    "    temp_list.append(ask_create)\n",
    "    temp_list.append(num_comments)\n",
    "    result_list.append(temp_list)\n",
    "\n",
    "#Create empty dictionaries\n",
    "counts_by_hour = {}\n",
    "comments_by_hour = {}\n",
    "\n",
    "#Loop through the new list, extract the hour created & number of comments, then store in dictionaries\n",
    "for item in result_list:\n",
    "    just_date = dt.datetime.strptime(item[0], \"%m/%d/%Y %H:%M\")\n",
    "    just_hour = just_date.strftime(\"%H\")\n",
    "    if just_hour not in counts_by_hour:\n",
    "        counts_by_hour[just_hour] = 1\n",
    "        comments_by_hour[just_hour] = item[1] \n",
    "    else:\n",
    "        counts_by_hour[just_hour] += 1\n",
    "        comments_by_hour[just_hour] += item[1]\n",
    "\n",
    "#print the results\n",
    "print(\"Counts by hour:\", counts_by_hour)\n",
    "print('\\n')\n",
    "print(\"Comments by hour:\", comments_by_hour)"
   ]
  },
  {
   "cell_type": "markdown",
   "metadata": {},
   "source": [
    "We now have two frequency tables that tells us how many ask posts were made each hour and how many comments were made to the ask posts each hour. To make this a bit cleaner, let's merge the 2 dictionaries into one to demonstrate the average number of comments made for 'Ask' posts per hour"
   ]
  },
  {
   "cell_type": "markdown",
   "metadata": {},
   "source": [
    "### Calculating the average number of comments for 'Ask HN' posts by hour"
   ]
  },
  {
   "cell_type": "code",
   "execution_count": 9,
   "metadata": {},
   "outputs": [
    {
     "data": {
      "text/plain": [
       "[['02', 11.137546468401487],\n",
       " ['01', 7.407801418439717],\n",
       " ['22', 8.804177545691905],\n",
       " ['21', 8.687258687258687],\n",
       " ['19', 7.163043478260869],\n",
       " ['17', 9.449744463373083],\n",
       " ['15', 28.676470588235293],\n",
       " ['14', 9.692007797270955],\n",
       " ['13', 16.31756756756757],\n",
       " ['11', 8.96474358974359],\n",
       " ['10', 10.684397163120567],\n",
       " ['09', 6.653153153153153],\n",
       " ['07', 7.013274336283186],\n",
       " ['03', 7.948339483394834],\n",
       " ['23', 6.696793002915452],\n",
       " ['20', 8.749019607843136],\n",
       " ['16', 7.713298791018998],\n",
       " ['08', 9.190661478599221],\n",
       " ['00', 7.5647840531561465],\n",
       " ['18', 7.94299674267101],\n",
       " ['12', 12.380116959064328],\n",
       " ['04', 9.7119341563786],\n",
       " ['06', 6.782051282051282],\n",
       " ['05', 8.794258373205741]]"
      ]
     },
     "execution_count": 9,
     "metadata": {},
     "output_type": "execute_result"
    }
   ],
   "source": [
    "#Create an empty list\n",
    "avg_comments_list = []\n",
    "\n",
    "#Loop over the comments dictionary, calculate the average and append to the new list\n",
    "for key in comments_by_hour:\n",
    "        avg_comments_list.append([key, comments_by_hour[key] / counts_by_hour[key]])      \n",
    "\n",
    "#Show the list\n",
    "avg_comments_list"
   ]
  },
  {
   "cell_type": "markdown",
   "metadata": {},
   "source": [
    "We now need to swap the list items around in preparation for the final analysis"
   ]
  },
  {
   "cell_type": "code",
   "execution_count": 10,
   "metadata": {},
   "outputs": [
    {
     "name": "stdout",
     "output_type": "stream",
     "text": [
      "[[11.137546468401487, '02'], [7.407801418439717, '01'], [8.804177545691905, '22'], [8.687258687258687, '21'], [7.163043478260869, '19'], [9.449744463373083, '17'], [28.676470588235293, '15'], [9.692007797270955, '14'], [16.31756756756757, '13'], [8.96474358974359, '11'], [10.684397163120567, '10'], [6.653153153153153, '09'], [7.013274336283186, '07'], [7.948339483394834, '03'], [6.696793002915452, '23'], [8.749019607843136, '20'], [7.713298791018998, '16'], [9.190661478599221, '08'], [7.5647840531561465, '00'], [7.94299674267101, '18'], [12.380116959064328, '12'], [9.7119341563786, '04'], [6.782051282051282, '06'], [8.794258373205741, '05']]\n"
     ]
    }
   ],
   "source": [
    "#Create a new list\n",
    "swap_avg_comments_list = []\n",
    "\n",
    "#Loop through the previous list and append the items in the correct order\n",
    "for item in avg_comments_list:\n",
    "    swap_avg_comments_list.append([item[1], item[0]])\n",
    "\n",
    "#Print the results\n",
    "print(swap_avg_comments_list)"
   ]
  },
  {
   "cell_type": "markdown",
   "metadata": {},
   "source": [
    "### Sorting and printing values from a list of lists\n",
    "\n",
    "So we can easily identify the hours with the highest number of comments, lets sort the list in descending order according to the average number of comments recieved"
   ]
  },
  {
   "cell_type": "code",
   "execution_count": 11,
   "metadata": {},
   "outputs": [
    {
     "data": {
      "text/plain": [
       "[[28.676470588235293, '15'],\n",
       " [16.31756756756757, '13'],\n",
       " [12.380116959064328, '12'],\n",
       " [11.137546468401487, '02'],\n",
       " [10.684397163120567, '10'],\n",
       " [9.7119341563786, '04'],\n",
       " [9.692007797270955, '14'],\n",
       " [9.449744463373083, '17'],\n",
       " [9.190661478599221, '08'],\n",
       " [8.96474358974359, '11'],\n",
       " [8.804177545691905, '22'],\n",
       " [8.794258373205741, '05'],\n",
       " [8.749019607843136, '20'],\n",
       " [8.687258687258687, '21'],\n",
       " [7.948339483394834, '03'],\n",
       " [7.94299674267101, '18'],\n",
       " [7.713298791018998, '16'],\n",
       " [7.5647840531561465, '00'],\n",
       " [7.407801418439717, '01'],\n",
       " [7.163043478260869, '19'],\n",
       " [7.013274336283186, '07'],\n",
       " [6.782051282051282, '06'],\n",
       " [6.696793002915452, '23'],\n",
       " [6.653153153153153, '09']]"
      ]
     },
     "execution_count": 11,
     "metadata": {},
     "output_type": "execute_result"
    }
   ],
   "source": [
    "#Sort the list in descending order\n",
    "sorted_swap = sorted(swap_avg_comments_list, reverse=True)\n",
    "\n",
    "#Show the sorted list\n",
    "sorted_swap"
   ]
  },
  {
   "cell_type": "markdown",
   "metadata": {},
   "source": [
    "Let's now look at the `Top 5` hours for ask post comments to draw up our conclusions"
   ]
  },
  {
   "cell_type": "code",
   "execution_count": 12,
   "metadata": {},
   "outputs": [
    {
     "name": "stdout",
     "output_type": "stream",
     "text": [
      "Top 5 Hours for Ask Posts Comments:\n",
      "15:00: 28.68 average comments per post\n",
      "13:00: 16.32 average comments per post\n",
      "12:00: 12.38 average comments per post\n",
      "02:00: 11.14 average comments per post\n",
      "10:00: 10.68 average comments per post\n"
     ]
    }
   ],
   "source": [
    "#Print out our title\n",
    "print('Top 5 Hours for Ask Posts Comments:')\n",
    "\n",
    "#Loop over the previous list, extract the top 5 hours by comment and convert hour back to full time format\n",
    "for avg, hr in sorted_swap[:5]:\n",
    "    hour = dt.datetime.strptime(hr, \"%H\")\n",
    "    hour = hour.strftime(\"%H:%M\")\n",
    "    print(\"{}: {:.2f} average comments per post\".format(hour, avg))"
   ]
  },
  {
   "cell_type": "markdown",
   "metadata": {},
   "source": [
    "### Conclusion\n",
    "\n",
    "In this project we analysed nearly 300,000 rows to determine the best time to recieve a comment from a post on Hackerank. The best time to submit a question to Hackerank is between 3pm and 4pm where the average amount of comments per post increase by 168% compared to submitting between the morning hours of 10am and 11am."
   ]
  }
 ],
 "metadata": {
  "kernelspec": {
   "display_name": "Python 3",
   "language": "python",
   "name": "python3"
  },
  "language_info": {
   "codemirror_mode": {
    "name": "ipython",
    "version": 3
   },
   "file_extension": ".py",
   "mimetype": "text/x-python",
   "name": "python",
   "nbconvert_exporter": "python",
   "pygments_lexer": "ipython3",
   "version": "3.7.4"
  }
 },
 "nbformat": 4,
 "nbformat_minor": 2
}
